{
 "cells": [
  {
   "cell_type": "markdown",
   "metadata": {},
   "source": [
    "# Saving TTrees to a ROOT file with PyROOT\n",
    "\n",
    "Writing a ROOT TTree in a python session is a little convoluted, here we work with builtin types.\n",
    "The use of arrays is also needed, because the pointer to the address of the object that is used for filling must be given to the 'TTree::Branch()' call, even though the formal argument is declared a 'void*'.\n",
    "\n",
    "A more efficient way would be to work with a C++ class to make sure that data members can be mapped (trees work with direct memory access), which I'm not using here, but you can find an example here: \n",
    "http://wlav.web.cern.ch/wlav/pyroot/tpytree.html"
   ]
  },
  {
   "cell_type": "code",
   "execution_count": 45,
   "metadata": {
    "collapsed": false
   },
   "outputs": [
    {
     "data": {
      "text/plain": [
       "1349"
      ]
     },
     "execution_count": 45,
     "metadata": {},
     "output_type": "execute_result"
    }
   ],
   "source": [
    "import ROOT\n",
    "import numpy as np\n",
    "from random import randint\n",
    "from array import array\n",
    "\n",
    "# Settings\n",
    "nEvents = 50\n",
    "\n",
    "# Initialization\n",
    "event = array('i',[0])\n",
    "nTracks = array('i',[0])\n",
    "trackLength = ROOT.std.vector(float)()\n",
    "nHits_U = ROOT.std.vector(int)()\n",
    "nHits_V = ROOT.std.vector(int)()\n",
    "nHits_Y = ROOT.std.vector(int)()\n",
    "peakHeight_U = ROOT.std.vector(ROOT.std.vector(float))()\n",
    "peakHeight_V = ROOT.std.vector(ROOT.std.vector(float))()\n",
    "peakHeight_Y = ROOT.std.vector(ROOT.std.vector(float))()\n",
    "peakWidth_U = ROOT.std.vector(ROOT.std.vector(float))()\n",
    "peakWidth_V = ROOT.std.vector(ROOT.std.vector(float))()\n",
    "peakWidth_Y = ROOT.std.vector(ROOT.std.vector(float))()\n",
    "\n",
    "# Create TTree and TBranches\n",
    "rFile = ROOT.TFile('tree.root','RECREATE')\n",
    "rTree = ROOT.TTree('Tree','Tree for toy data')\n",
    "rTree.Branch(\"Event\",event,'event/I')\n",
    "rTree.Branch(\"NumTracks\",nTracks,'nTracks/I')\n",
    "rTree.Branch(\"TrackLength\",trackLength)\n",
    "rTree.Branch(\"NumHits_U\",nHits_U)\n",
    "rTree.Branch(\"NumHits_V\",nHits_V)\n",
    "rTree.Branch(\"NumHits_Y\",nHits_Y)\n",
    "rTree.Branch(\"PeakHeight_U\",peakHeight_U)\n",
    "rTree.Branch(\"PeakHeight_V\",peakHeight_V)\n",
    "rTree.Branch(\"PeakHeight_Y\",peakHeight_Y)\n",
    "rTree.Branch(\"PeakWidth_U\",peakWidth_U)\n",
    "rTree.Branch(\"PeakWidth_V\",peakWidth_V)\n",
    "rTree.Branch(\"PeakWidth_Y\",peakWidth_Y)\n",
    "\n",
    "# Generate random events\n",
    "for i in range(nEvents):\n",
    "    event[0] = i\n",
    "    nTracks[0] = np.random.poisson(4)+1\n",
    "    for j in range(nTracks[0]):\n",
    "        trackLength.push_back(np.random.rayleigh(50))\n",
    "        nHits = int(np.random.rayleigh(trackLength.back()))+1\n",
    "        nHits_U.push_back(abs(nHits + int(np.random.normal(0,np.sqrt(nHits)))))\n",
    "        nHits_V.push_back(abs(nHits + int(np.random.normal(0,np.sqrt(nHits)))))\n",
    "        nHits_Y.push_back(abs(nHits + int(np.random.normal(0,np.sqrt(nHits)))))\n",
    "        \n",
    "        tempVec_Height_U = ROOT.std.vector(float)()\n",
    "        tempVec_Height_V = ROOT.std.vector(float)()\n",
    "        tempVec_Height_Y = ROOT.std.vector(float)()\n",
    "        tempVec_Width_U = ROOT.std.vector(float)()\n",
    "        tempVec_Width_V = ROOT.std.vector(float)()\n",
    "        tempVec_Width_Y = ROOT.std.vector(float)()\n",
    "        for k in range(nHits_U.back()):            \n",
    "            tempVec_Height_U.push_back(abs(np.random.normal(15,7)))\n",
    "            tempVec_Width_U.push_back(abs(np.random.normal(12,4)))\n",
    "        for k in range(nHits_V.back()):\n",
    "            tempVec_Height_V.push_back(abs(np.random.normal(15,7)))\n",
    "            tempVec_Width_V.push_back(abs(np.random.normal(12,4)))\n",
    "        for k in range(nHits_Y.back()):\n",
    "            tempVec_Height_Y.push_back(abs(np.random.normal(15,7)))\n",
    "            tempVec_Width_Y.push_back(abs(np.random.normal(12,4)))\n",
    "        peakHeight_U.push_back(tempVec_Height_U)\n",
    "        peakHeight_V.push_back(tempVec_Height_V)\n",
    "        peakHeight_Y.push_back(tempVec_Height_Y)\n",
    "        peakWidth_U.push_back(tempVec_Width_U)\n",
    "        peakWidth_V.push_back(tempVec_Width_V)\n",
    "        peakWidth_Y.push_back(tempVec_Width_Y)    \n",
    "            \n",
    "        \n",
    "    rTree.Fill()\n",
    "    # Cleaning\n",
    "    trackLength.clear()\n",
    "    nHits_U.clear()\n",
    "    nHits_V.clear()\n",
    "    nHits_Y.clear()\n",
    "    peakHeight_U.clear()\n",
    "    peakHeight_V.clear()\n",
    "    peakHeight_Y.clear()\n",
    "    peakWidth_U.clear()\n",
    "    peakWidth_V.clear()\n",
    "    peakWidth_Y.clear()\n",
    "    \n",
    "rFile.Write()"
   ]
  },
  {
   "cell_type": "code",
   "execution_count": null,
   "metadata": {
    "collapsed": true
   },
   "outputs": [],
   "source": []
  }
 ],
 "metadata": {
  "kernelspec": {
   "display_name": "Python 2",
   "language": "python",
   "name": "python2"
  },
  "language_info": {
   "codemirror_mode": {
    "name": "ipython",
    "version": 2
   },
   "file_extension": ".py",
   "mimetype": "text/x-python",
   "name": "python",
   "nbconvert_exporter": "python",
   "pygments_lexer": "ipython2",
   "version": "2.7.10"
  }
 },
 "nbformat": 4,
 "nbformat_minor": 0
}
