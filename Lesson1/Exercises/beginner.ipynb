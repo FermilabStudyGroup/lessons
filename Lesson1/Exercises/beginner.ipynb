{
 "cells": [
  {
   "cell_type": "markdown",
   "metadata": {},
   "source": [
    "# Load 'Lessons/Lesson1/Data/tree.root' to a pandas dataframe.\n",
    "\n",
    "If you didn't manage to install PyROOT successfully, you can always read the same content from 'Lessons/Lesson1/Data/tree.pickle' using DataFrame.read_pickle().\n",
    "\n",
    "There's an example for this in the 'Examples' directory of this repository."
   ]
  },
  {
   "cell_type": "code",
   "execution_count": null,
   "metadata": {
    "collapsed": true
   },
   "outputs": [],
   "source": [
    "# The following magic line is needed if you want your plots to be shown in the notebook\n",
    "%matplotlib inline"
   ]
  },
  {
   "cell_type": "markdown",
   "metadata": {},
   "source": [
    "# Play around with the pandas dataframe\n",
    "You can follow the instructions in http://pandas.pydata.org/pandas-docs/stable/10min.html.\n",
    "\n",
    "If you're new to Python, it may be worth to spend some time on this tutorial."
   ]
  },
  {
   "cell_type": "code",
   "execution_count": null,
   "metadata": {
    "collapsed": true
   },
   "outputs": [],
   "source": []
  },
  {
   "cell_type": "markdown",
   "metadata": {},
   "source": [
    "# Plot histograms for track length and number of hits, for each plane\n",
    "There are examples in the 'Examples' directory of this repository and here: http://matplotlib.org/1.2.1/examples/pylab_examples/histogram_demo.html"
   ]
  },
  {
   "cell_type": "code",
   "execution_count": null,
   "metadata": {
    "collapsed": true
   },
   "outputs": [],
   "source": []
  },
  {
   "cell_type": "markdown",
   "metadata": {},
   "source": [
    "# Apply a cut of 2.5 on track length and plot a 2d-histogram for Pulse Height vs. Pulse Width\n",
    "There's an example for 2d-plots here: http://matplotlib.org/examples/pylab_examples/pcolor_demo.html"
   ]
  },
  {
   "cell_type": "code",
   "execution_count": null,
   "metadata": {
    "collapsed": true
   },
   "outputs": [],
   "source": []
  },
  {
   "cell_type": "markdown",
   "metadata": {},
   "source": [
    "# Wrap your previous script in a function and create a widget for it, so that you can use a slider for changing the cut on track length.\n",
    "There's a widget example in the 'Examples' directory of this repository and you can find more information here:\n",
    "http://ipywidgets.readthedocs.io/en/latest/examples/Using%20Interact.html"
   ]
  },
  {
   "cell_type": "code",
   "execution_count": null,
   "metadata": {
    "collapsed": true
   },
   "outputs": [],
   "source": []
  }
 ],
 "metadata": {
  "kernelspec": {
   "display_name": "Python 2",
   "language": "python",
   "name": "python2"
  },
  "language_info": {
   "codemirror_mode": {
    "name": "ipython",
    "version": 2
   },
   "file_extension": ".py",
   "mimetype": "text/x-python",
   "name": "python",
   "nbconvert_exporter": "python",
   "pygments_lexer": "ipython2",
   "version": "2.7.10"
  }
 },
 "nbformat": 4,
 "nbformat_minor": 0
}
